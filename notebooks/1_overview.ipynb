{
 "cells": [
  {
   "cell_type": "markdown",
   "metadata": {},
   "source": [
    "## Introduction to SNT Programming\n",
    "\n",
    "This notebook provides an overview on scripting the [SNT](https://imagej.net/SNT) [API](https://morphonets.github.io/SNT/) from Python. Before starting, we need to make  SNT accessible from this notebook through [pyimagej](https://pypi.org/project/pyimagej/). If you haven't done so, have a look at the [detailed instructions](./README.md) on how to set up your environment.\n",
    "\n",
    "Let's get started! Once installed, `imagej` is imported as any other module:"
   ]
  },
  {
   "cell_type": "markdown",
   "metadata": {},
   "source": [
    "We must initialize ImageJ within the notebook environment. Initialization can be done with GUI support or in headless mode. There are two ways to accomplish this:\n",
    "1. Specifying a remote path for Fiji. This allows, e.g., for the direct execution on [Binder](https://mybinder.org/v2/gh/morphonets/SNT/master?filepath=%2Fnotebooks%2F1_overview.ipynb) (no local files are required) but the installation times are prohibitively long.\n",
    "2. Specifying a local Fiji installation (subscribed to the NeuroAnatomy update site). This is significantly faster, and  the preferred way. As mentioned [earlier](./README.md), [ijfinder.py](ijfinder.py) can be used to streamline this task. Simply [insert](ijfinder.py) the absolute path to your _Fiji.app_ directory under `local_fiji_dir`, and its location will be shared across all of SNT notebooks in this collection. If the directory is not found, the script will prompt you for an alternative:"
   ]
  },
  {
   "cell_type": "code",
   "execution_count": 1,
   "metadata": {},
   "outputs": [],
   "source": [
    "import os\n",
    "import sys\n",
    "import imagej\n",
    "import ijfinder\n",
    "\n",
    "fiji_path = ijfinder.getpath().decode('utf-8')\n",
    "if os.path.isdir(fiji_path):\n",
    "    ij = imagej.init(fiji_path, headless=False)\n",
    "else:\n",
    "    print(\"Cannot proceed: Fiji not found!\")"
   ]
  },
  {
   "cell_type": "markdown",
   "metadata": {},
   "source": [
    "As would be done in a Jython script using Fiji's Script Editor, we need to import the SNT classes we want to use. This is done using [scyjava](https://github.com/scijava/scyjava)."
   ]
  },
  {
   "cell_type": "code",
   "execution_count": 2,
   "metadata": {},
   "outputs": [
    {
     "name": "stdout",
     "output_type": "stream",
     "text": [
      "We are running SNT 3.1.113\n"
     ]
    }
   ],
   "source": [
    "from scyjava import jimport\n",
    "SNTUtils = jimport('sc.fiji.snt.SNTUtils')\n",
    "print(\"We are running SNT %s\" % SNTUtils.VERSION)"
   ]
  },
  {
   "cell_type": "markdown",
   "metadata": {},
   "source": [
    "## Loading a Tree\n",
    "\n",
    "Let's load a neuron (a [Tree](https://javadoc.scijava.org/Fiji/index.html?sc/fiji/snt/Tree.html)) from the [MouseLight database](http://ml-neuronbrowser.janelia.org/). We will be using the [Scijava](https://javadoc.scijava.org/) and [SNT](https://morphonets.github.io/SNT/) APIs frequently. The most up-to-date SNT API is found at https://morphonets.github.io/SNT/. After skimming through it, we know that, e.g., we can use \n",
    "[MouseLightLoader](https://javadoc.scijava.org/Fiji/sc/fiji/snt/io/MouseLightLoader.html):"
   ]
  },
  {
   "cell_type": "code",
   "execution_count": 3,
   "metadata": {},
   "outputs": [],
   "source": [
    "MouseLightLoader = jimport('sc.fiji.snt.io.MouseLightLoader')"
   ]
  },
  {
   "cell_type": "markdown",
   "metadata": {},
   "source": [
    "Now we can access all the attributes and methods this class offers. Let's load a specific mouse cortical motor neuron (ID = \"AA0100\" in the [MouseLight database](http://ml-neuronbrowser.janelia.org/)). First, we initialize ```MouseLightLoader``` with the ID String of the desired reconstruction. The loader object has methods to check database availability and validity of passed IDs:"
   ]
  },
  {
   "cell_type": "code",
   "execution_count": 4,
   "metadata": {},
   "outputs": [],
   "source": [
    "loader = MouseLightLoader(\"AA0100\")\n",
    "if not loader.isDatabaseAvailable():\n",
    "    print(\"Could not connect to ML database\", \"Error\")\n",
    "if not loader.idExists():\n",
    "    print(\"Somehow the specified id was not found\", \"Error\")"
   ]
  },
  {
   "cell_type": "markdown",
   "metadata": {},
   "source": [
    "To extract a specific neurite compartment from the loader object as a [Tree](https://javadoc.scijava.org/Fiji/index.html?sc/fiji/snt/Tree.html), we can call ```loader.getTree(compartment_string)```\n",
    "where compartment_string may be - 'soma', 'axon', 'dendrite', or 'all' (case insensitive). Leaving the argument empty will return all compartments."
   ]
  },
  {
   "cell_type": "code",
   "execution_count": 5,
   "metadata": {},
   "outputs": [],
   "source": [
    "axon = loader.getTree('axon')"
   ]
  },
  {
   "cell_type": "markdown",
   "metadata": {},
   "source": [
    "Let's visualize the axonal Tree. SNT offers a handful of [dedicated viewers](https://javadoc.scijava.org/Fiji/index.html?sc/fiji/snt/viewer/package-summary.html) for both single cells and cell groups. [Viewer2D](https://javadoc.scijava.org/Fiji/index.html?sc/fiji/snt/viewer/Viewer2D.html) (_Reconstruction Plotter_) and [Viewer3D](https://javadoc.scijava.org/Fiji/index.html?sc/fiji/snt/viewer/Viewer3D.html) (_Reconstruction Viewer_) are the most frequently used. By calling `show()`, SNT will automatically choose a suitable viewer, but we can impose the display of 2D projection of the reconstruction by calling `show2D()`:"
   ]
  },
  {
   "cell_type": "code",
   "execution_count": 6,
   "metadata": {},
   "outputs": [
    {
     "data": {
      "text/plain": [
       "<java object 'sc.fiji.snt.viewer.Viewer2D'>"
      ]
     },
     "execution_count": 6,
     "metadata": {},
     "output_type": "execute_result"
    }
   ],
   "source": [
    "axon.show2D()\n",
    "\n",
    "# from IPython.display import Image, display\n",
    "# display(Image(filename=r\"./images/AA0100plotter.png\",  width=500))"
   ]
  },
  {
   "cell_type": "markdown",
   "metadata": {},
   "source": [
    "To visualize the cell in 3D we can use `show3D()`, to display the axon on a interactive 3D canvas. But if we want the enriched experience of a standalone [Reconstruction Viewer](https://imagej.net/SNT:_Reconstruction_Viewer) we to specify it when initializing [Viewer3D](https://javadoc.scijava.org/Fiji/index.html?sc/fiji/snt/viewer/Viewer3D.html), the viewer's main class:"
   ]
  },
  {
   "cell_type": "code",
   "execution_count": 7,
   "metadata": {},
   "outputs": [],
   "source": [
    "Viewer3D = jimport('sc.fiji.snt.viewer.Viewer3D')\n",
    "viewer_3d = Viewer3D() ## same as viewer_3d = Viewer3D(False): Viewer will not display the 'Controls' dialog, making it more responsive for large amounts of data\n",
    "viewer_3d = Viewer3D(True) ## 'Controls' dialog will be displayed providing GUI controls for scene manipulation"
   ]
  },
  {
   "cell_type": "markdown",
   "metadata": {},
   "source": [
    "Now, we can enrich the scene, and use the GUI controls of the Viewer to import, manage and customize the Viewer's scene:"
   ]
  },
  {
   "cell_type": "code",
   "execution_count": 8,
   "metadata": {},
   "outputs": [
    {
     "data": {
      "text/plain": [
       "<java object 'sc.fiji.snt.viewer.Viewer3D.ViewerFrame'>"
      ]
     },
     "execution_count": 8,
     "metadata": {},
     "output_type": "execute_result"
    }
   ],
   "source": [
    "viewer_3d.setEnableDarkMode(False)\n",
    "viewer_3d.add(axon)\n",
    "viewer_3d.loadRefBrain('mouse')\n",
    "viewer_3d.setViewMode('sagittal')\n",
    "viewer_3d.setAnimationEnabled(True)\n",
    "viewer_3d.show()\n",
    "\n",
    "# from IPython.display import Image, display\n",
    "# display(Image(filename=r\"./images/AA0100viewer.png\",  width=650))"
   ]
  },
  {
   "cell_type": "markdown",
   "metadata": {},
   "source": [
    "We can also retrieve a skeletonized mask (2D or 3D) of a Tree:"
   ]
  },
  {
   "cell_type": "code",
   "execution_count": 9,
   "metadata": {},
   "outputs": [],
   "source": [
    "dendrites = loader.getTree('dendrites')\n",
    "dendrites.getSkeleton2D().show()\n",
    "\n",
    "# from IPython.display import Image, display\n",
    "# display(Image(filename=r\"./images/AA0100skel2d.png\",  width=300))"
   ]
  },
  {
   "cell_type": "markdown",
   "metadata": {},
   "source": [
    "[Convertion to ROIs](https://javadoc.scijava.org/Fiji/index.html?sc/fiji/snt/analysis/RoiConverter.html) is also possible."
   ]
  },
  {
   "cell_type": "markdown",
   "metadata": {},
   "source": [
    "## Measuring a Tree\n",
    "\n",
    "Most simply, a Tree can be measured using [TreeAnalyzer](https://javadoc.scijava.org/Fiji/index.html?sc/fiji/snt/analysis/TreeAnalyzer.html) and its extending class [TreeStatistics](https://javadoc.scijava.org/Fiji/index.html?sc/fiji/snt/analysis/TreeStatistics.html) (other classes in the [analysis package](https://javadoc.scijava.org/Fiji/index.html?sc/fiji/snt/analysis/package-summary.html) provide further functionality). We can construct an instance of `TreeStatistics` class using the axon `Tree`:"
   ]
  },
  {
   "cell_type": "code",
   "execution_count": 10,
   "metadata": {},
   "outputs": [],
   "source": [
    "TreeStatistics = jimport('sc.fiji.snt.analysis.TreeStatistics')\n",
    "t_stats = TreeStatistics(axon)"
   ]
  },
  {
   "cell_type": "markdown",
   "metadata": {},
   "source": [
    "Both [TreeAnalyzer](https://javadoc.scijava.org/Fiji/index.html?sc/fiji/snt/analysis/TreeAnalyzer.html) and [TreeStatistics](https://javadoc.scijava.org/Fiji/index.html?sc/fiji/snt/analysis/TreeStatistics.html):\n",
    "provide a variety of metrics with which to measure reconstructions: The former will tipically retrieve single  value measurements: e.g. `getCableLength()` while the latter extends TreeAnalyzer to allow access to distribution statistics.\n",
    "\n",
    "To see the full list of supported metrics, we can use `getAllMetrics()`. Importantly, the Object returned by this method is a [Java List](https://docs.oracle.com/javase/8/docs/api/java/util/List.html). However, through the magic of [JPype](https://github.com/jpype-project/jpype), it can largely be used as if it were a Python `list` (i.e., slicing or calling a `list` method such as `append()` should work as expected). Nonetheless, if a certain method does not work, or if a true Python `list` is desired, simply cast the Java List with `list()`"
   ]
  },
  {
   "cell_type": "code",
   "execution_count": 11,
   "metadata": {},
   "outputs": [
    {
     "name": "stdout",
     "output_type": "stream",
     "text": [
      "\n",
      "TreeAnalyzer metrics:\n",
      "Assigned value, Average branch length, Average contraction, Average fragmentation, Average remote bif. angle, Average partition asymmetry, Average fractal dimension, Depth, Height, Highest path order, Cable length, Mean radius, No. of branch points, No. of branches, No. of fitted paths, No. of nodes, No. of paths, No. of primary branches, No. of inner branches, No. of terminal branches, No. of tips, Length of primary branches (sum), Length of inner branches (sum), Length of terminal branches (sum), Horton-Strahler number, Horton-Strahler bifurcation ratio, Width, Sholl: Centroid, Sholl: Centroid radius, Sholl: Decay, Sholl: Enclosing radius, Sholl: Intercept, Sholl: Kurtosis, Sholl: Max, Sholl: Max (fitted), Sholl: Max (fitted) radius, Sholl: Mean, Sholl: Median, Sholl: No. maxima, Sholl: No. secondary maxima, Sholl: Degree of Polynomial fit, Sholl: Skeweness, Sholl: Sum, Sholl: Variance\n",
      "\n",
      "TreeStatistics metrics:\n",
      "Branch length, Contraction, Remote bif. angles, Partition asymmetry, Fractal dimension, Inter-node distance, Inter-node distance (squared), Path mean radius, No. of branch points, No. of nodes, Node radius, Path channel, Path frame, Path length, Path order, Length of primary branches, Length of inner branches, Length of terminal branches, Node intensity values, X coordinates, Y coordinates, Z coordinates\n"
     ]
    }
   ],
   "source": [
    "ta_metrics = t_stats.getAnalyzerMetrics()\n",
    "ts_metrics = t_stats.getAllMetrics()\n",
    "print(\"\\nTreeAnalyzer metrics:\")\n",
    "print(*ta_metrics, sep = \", \")\n",
    "print(\"\\nTreeStatistics metrics:\")\n",
    "print(*ts_metrics, sep = \", \")"
   ]
  },
  {
   "cell_type": "markdown",
   "metadata": {},
   "source": [
    "These metrics can be used to retrieve computations, distributions, etc. Here is an example:"
   ]
  },
  {
   "cell_type": "code",
   "execution_count": 12,
   "metadata": {},
   "outputs": [
    {
     "name": "stdout",
     "output_type": "stream",
     "text": [
      "The average inter-node distance is 21 micrometers\n",
      "The standard deviation is 12\n"
     ]
    }
   ],
   "source": [
    "metric = \"Inter-node dx\" # fuzzy matching is supported so we can abbreviate distance\n",
    "summary_stats = t_stats.getSummaryStats(metric)\n",
    "print(\"The average inter-node distance is %d micrometers\" % summary_stats.getMean())\n",
    "print(\"The standard deviation is %d\" % summary_stats.getStandardDeviation())"
   ]
  },
  {
   "cell_type": "markdown",
   "metadata": {},
   "source": [
    "We can also plot histograms directly:"
   ]
  },
  {
   "cell_type": "code",
   "execution_count": 13,
   "metadata": {},
   "outputs": [],
   "source": [
    "t_stats.getHistogram(metric).show()\n",
    "\n",
    "# from IPython.display import Image, display\n",
    "# display(Image(filename=r\"./images/AA0100hist.png\",  width=400))"
   ]
  },
  {
   "cell_type": "markdown",
   "metadata": {},
   "source": [
    "Since TreeStatistics extends TreeAnalyzer, we can also access all of TreeAnalyzer's functionality from the `t_stats` instance:"
   ]
  },
  {
   "cell_type": "code",
   "execution_count": 14,
   "metadata": {},
   "outputs": [
    {
     "name": "stdout",
     "output_type": "stream",
     "text": [
      "The cable length of the axon is 446486 micrometers\n"
     ]
    }
   ],
   "source": [
    "print(\"The cable length of the axon is %d micrometers\" % t_stats.getCableLength())"
   ]
  },
  {
   "cell_type": "markdown",
   "metadata": {},
   "source": [
    "## Accessing Neuropil Annotations\n",
    "\n",
    "Where does this axon project to? TreeStatistics is also aware of the location of each node in the brain. So we can, e.g., find out cable length is distributed across brain regions. For clarity, we will focus on brain regions of a specific (mid) ontology level of the [Allen Brain Atlas](http://mouse.brain-map.org/):"
   ]
  },
  {
   "cell_type": "code",
   "execution_count": 15,
   "metadata": {},
   "outputs": [],
   "source": [
    "t_stats.getAnnotatedLengthHistogram(6).show()\n",
    "\n",
    "# from IPython.display import Image, display\n",
    "# display(Image(filename=r\"./images/AA0100annot.png\",  width=400))"
   ]
  },
  {
   "cell_type": "markdown",
   "metadata": {},
   "source": [
    "Have a look at remaining [notebooks](./) for further examples."
   ]
  }
 ],
 "metadata": {
  "kernelspec": {
   "display_name": "Python 3",
   "language": "python",
   "name": "python3"
  },
  "language_info": {
   "codemirror_mode": {
    "name": "ipython",
    "version": 3
   },
   "file_extension": ".py",
   "mimetype": "text/x-python",
   "name": "python",
   "nbconvert_exporter": "python",
   "pygments_lexer": "ipython3",
   "version": "3.8.6"
  }
 },
 "nbformat": 4,
 "nbformat_minor": 4
}
