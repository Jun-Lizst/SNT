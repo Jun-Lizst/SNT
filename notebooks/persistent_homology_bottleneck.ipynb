{
 "cells": [
  {
   "cell_type": "markdown",
   "metadata": {},
   "source": [
    "Clustering tree morphologies via [Persistent Homology](https://en.wikipedia.org/wiki/Topological_data_analysis)\n",
    "\n",
    "The distance metric is pairwise bottleneck distances between persistence diagrams generated from neuronal morphologies.\n",
    "\n",
    "See [Li Y, Wang D, Ascoli GA, Mitra P, Wang Y (2017) Metrics for comparing neuronal tree shapes based on persistent homology. PLoS ONE](https://journals.plos.org/plosone/article?id=10.1371/journal.pone.0182184) for the general approach"
   ]
  },
  {
   "cell_type": "code",
   "execution_count": 1,
   "metadata": {},
   "outputs": [],
   "source": [
    "import imagej\n",
    "import time\n",
    "import persim\n",
    "import numpy as np\n",
    "import matplotlib.pyplot as plt\n",
    "from sklearn.metrics import pairwise_distances\n",
    "from sklearn.cluster import AgglomerativeClustering\n",
    "from scipy.cluster.hierarchy import dendrogram"
   ]
  },
  {
   "cell_type": "code",
   "execution_count": 2,
   "metadata": {},
   "outputs": [],
   "source": [
    "# Initialize Fiji with GUI support.\n",
    "ij = imagej.init(r'C:\\Users\\cam\\Desktop\\My_Desktop\\Fiji.app', headless=False)\n",
    "from jnius import autoclass, cast"
   ]
  },
  {
   "cell_type": "code",
   "execution_count": 3,
   "metadata": {},
   "outputs": [],
   "source": [
    "Tree = autoclass('sc.fiji.snt.Tree')\n",
    "MouseLightLoader = autoclass('sc.fiji.snt.io.MouseLightLoader')\n",
    "PersistenceAnalyzer = autoclass('sc.fiji.snt.analysis.PersistenceAnalyzer')"
   ]
  },
  {
   "cell_type": "code",
   "execution_count": 4,
   "metadata": {},
   "outputs": [],
   "source": [
    "diagram_map = {} # needs to be global\n",
    "\n",
    "def run ():\n",
    "    # Two types of mouse PT neuron with differing projection patterns descbried in \n",
    "    # Economo et al. Nature 2018\n",
    "    # pre print at https://www.biorxiv.org/content/biorxiv/early/2017/12/05/229260.full.pdf\n",
    "    group1 = ['AA1043', 'AA0180', 'AA0169', 'AA0134', 'AA0133', 'AA0131', 'AA0012']\n",
    "    group2 = ['AA0899', 'AA0898', 'AA0863', 'AA0854', 'AA0839', 'AA0836', 'AA0835']\n",
    "    groups = [group1, group2]\n",
    "    \n",
    "    trees = []\n",
    "    cell_ids = []\n",
    "    for num, group in enumerate(groups):\n",
    "        for cell in group:\n",
    "            loader = MouseLightLoader(cell)\n",
    "            if not loader.isDatabaseAvailable(): \n",
    "                print(\"Database not available. Exiting...\")\n",
    "                return\n",
    "            if not loader.idExists(): \n",
    "                print(\"Id not found in database. Exiting...\")\n",
    "                return \n",
    "            tree = loader.getTree()\n",
    "            tree.setLabel(tree.getLabel() + \"group {}\".format(num))\n",
    "            diagram = np.asarray(ij.py.from_java(PersistenceAnalyzer(tree).getPersistenceDiagram()))\n",
    "            key = int(tree.getLabel()[2:6])\n",
    "            diagram_map[key] = diagram\n",
    "            cell_ids.append([key])\n",
    "            trees.append(tree)\n",
    "\n",
    "    t0 = time.time()\n",
    "    matrix = get_distance_matrix(cell_ids)\n",
    "    t1 = time.time()\n",
    "    print(t1-t0, ' seconds to compute all distances')\n",
    "\n",
    "    # setting distance_threshold=0 ensures we compute the full tree.\n",
    "    model = AgglomerativeClustering(affinity='precomputed', linkage='single', distance_threshold=0, n_clusters=None)\n",
    "\n",
    "    # fit the model to the precomputed bottleneck distance matrix\n",
    "    model = model.fit(matrix)\n",
    "    plt.title('Hierarchical Clustering Dendrogram')\n",
    "\n",
    "    plot_dendrogram(model, truncate_mode='level', p=10)\n",
    "    plt.xlabel(\"Number of points in node (or index of point if no parenthesis).\")\n",
    "    plt.show()\n",
    "\n",
    "def mydist(a1, a2):\n",
    "    # bottleneck distance between two persistence diagrams\n",
    "    return persim.bottleneck(diagram_map[a1[0]], diagram_map[a2[0]], matching=False)\n",
    "\n",
    "def get_distance_matrix(cell_ids):\n",
    "    # Note this is slow, for a more effecient approach use the persistence vectorization approach instead.\n",
    "    # However, the bottleneck distance is the gold standard in terms of accuracy.\n",
    "    M = pairwise_distances(cell_ids, metric=mydist)\n",
    "    return M\n",
    "\n",
    "# Hierarchical Clustering\n",
    "def plot_dendrogram(model, **kwargs):\n",
    "    # Create linkage matrix and then plot the dendrogram\n",
    "\n",
    "    # create the counts of samples under each node\n",
    "    counts = np.zeros(model.children_.shape[0])\n",
    "    n_samples = len(model.labels_)\n",
    "    for i, merge in enumerate(model.children_):\n",
    "        current_count = 0\n",
    "        for child_idx in merge:\n",
    "            if child_idx < n_samples:\n",
    "                current_count += 1  # leaf node\n",
    "            else:\n",
    "                current_count += counts[child_idx - n_samples]\n",
    "        counts[i] = current_count\n",
    "\n",
    "    linkage_matrix = np.column_stack([model.children_, model.distances_,\n",
    "                                      counts]).astype(float)\n",
    "\n",
    "    # Plot the corresponding dendrogram\n",
    "    dendrogram(linkage_matrix, **kwargs) "
   ]
  },
  {
   "cell_type": "code",
   "execution_count": 5,
   "metadata": {},
   "outputs": [
    {
     "name": "stdout",
     "output_type": "stream",
     "text": [
      "155.5521514415741  seconds to compute all distances\n"
     ]
    },
    {
     "data": {
      "image/png": "[encoded data removed]",
      "text/plain": [
       "<Figure size 432x288 with 1 Axes>"
      ]
     },
     "metadata": {
      "needs_background": "light"
     },
     "output_type": "display_data"
    }
   ],
   "source": [
    "run()"
   ]
  }
 ],
 "metadata": {
  "kernelspec": {
   "display_name": "pyimagej",
   "language": "python",
   "name": "pyimagej"
  },
  "language_info": {
   "codemirror_mode": {
    "name": "ipython",
    "version": 3
   },
   "file_extension": ".py",
   "mimetype": "text/x-python",
   "name": "python",
   "nbconvert_exporter": "python",
   "pygments_lexer": "ipython3",
   "version": "3.7.3"
  }
 },
 "nbformat": 4,
 "nbformat_minor": 2
}
