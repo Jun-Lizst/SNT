{
 "cells": [
  {
   "cell_type": "markdown",
   "metadata": {},
   "source": [
    "The notebook provides a basic example of accessing the SNT API through pyimagej."
   ]
  },
  {
   "cell_type": "code",
   "execution_count": 1,
   "metadata": {},
   "outputs": [],
   "source": [
    "import sys\n",
    "#!conda install --yes --prefix {sys.prefix} -c conda-forge pyimagej openjdk=8"
   ]
  },
  {
   "cell_type": "code",
   "execution_count": 2,
   "metadata": {},
   "outputs": [],
   "source": [
    "import os\n",
    "import imagej"
   ]
  },
  {
   "cell_type": "markdown",
   "metadata": {},
   "source": [
    "First, we must initialize ImageJ (in this case Fiji) within the notebook environment. We can choose to run with GUI support or in headless mode."
   ]
  },
  {
   "cell_type": "code",
   "execution_count": 3,
   "metadata": {},
   "outputs": [],
   "source": [
    "ij = imagej.init(r'C:\\Users\\arshadic\\Downloads\\fiji-win64_unstable\\Fiji.app', headless=False)"
   ]
  },
  {
   "cell_type": "markdown",
   "metadata": {},
   "source": [
    "Now that Fiji is initialized we can import ```jnius```. Note this must be done AFTER ImageJ (Fiji) is initialized."
   ]
  },
  {
   "cell_type": "code",
   "execution_count": 4,
   "metadata": {},
   "outputs": [],
   "source": [
    "from jnius import autoclass, cast"
   ]
  },
  {
   "cell_type": "markdown",
   "metadata": {},
   "source": [
    "As would be done in a Jython script using Fiji's Script Editor, we need to import the SNT classes we want to use.\n",
    "The ```jnius.autoclass()``` function allows us to do exactly that, simply pass the full classpath as an argument to the function.\n",
    "\n",
    "The most up-to-date API is found at https://morphonets.github.io/SNT/\n",
    "\n",
    "For example, to download a neuron reconstruction from the MouseLight database and calculate summary statistics on it, you would import the [MouseLightLoader](https://morphonets.github.io/SNT/sc/fiji/snt/io/MouseLightLoader.html) and [TreeStatistics](https://morphonets.github.io/SNT/sc/fiji/snt/analysis/TreeStatistics.html) classes, as shown in the following cell."
   ]
  },
  {
   "cell_type": "code",
   "execution_count": 5,
   "metadata": {},
   "outputs": [],
   "source": [
    "MouseLightLoader = autoclass('sc.fiji.snt.io.MouseLightLoader')\n",
    "TreeStatistics = autoclass('sc.fiji.snt.analysis.TreeStatistics')"
   ]
  },
  {
   "cell_type": "markdown",
   "metadata": {},
   "source": [
    "Now you can access all the attributes and methods these classes offer. \n",
    "\n",
    "Let's get a summary of the inter-node distances for a specific mouse cortical motor neuron (ID = \"AA0100\" in the [MouseLight database](http://ml-neuronbrowser.janelia.org/)).\n",
    "\n",
    "First, we initialize ```MouseLightLoader``` with the ID String of the desired reconstruction. The loader object has methods to check database availability and validity of passed IDs. "
   ]
  },
  {
   "cell_type": "code",
   "execution_count": 6,
   "metadata": {},
   "outputs": [],
   "source": [
    "loader = MouseLightLoader(\"AA0100\")\n",
    "if not loader.isDatabaseAvailable():\n",
    "    print(\"Could not connect to ML database\", \"Error\")\n",
    "if not loader.idExists():\n",
    "    print(\"Somehow the specified id was not found\", \"Error\")"
   ]
  },
  {
   "cell_type": "markdown",
   "metadata": {},
   "source": [
    "To extract a specific neurite compartment from the loader object as a [Tree](https://morphonets.github.io/SNT/sc/fiji/snt/Tree.html), we can call ```loader.getTree(compartment_string)```\n",
    "where compartment_string may be - 'soma', 'axon', 'dendrite', 'all' (case insensitive)\n",
    "\n",
    "Leaving the argument empty will return all compartments."
   ]
  },
  {
   "cell_type": "code",
   "execution_count": 7,
   "metadata": {},
   "outputs": [],
   "source": [
    "axon = loader.getTree('axon')"
   ]
  },
  {
   "cell_type": "markdown",
   "metadata": {},
   "source": [
    "Next, we construct an instance of the ```TreeStatistics``` class using the axon ```Tree```"
   ]
  },
  {
   "cell_type": "code",
   "execution_count": 8,
   "metadata": {},
   "outputs": [],
   "source": [
    "s_stats = TreeStatistics(axon)"
   ]
  },
  {
   "cell_type": "markdown",
   "metadata": {},
   "source": [
    "The ```TreeStatistics``` class provides a variety of metrics with which to measure reconstructions. To see the full list, use the ```getAllMetrics()``` method on the instance. Importantly, the Object returned by this method is a [Java List](https://docs.oracle.com/javase/8/docs/api/java/util/List.html), and should be converted to the equivalent Python representation before attempting to iterate over it. We can do this with the ```pyimagej``` ```ij.py.from_java()``` method"
   ]
  },
  {
   "cell_type": "code",
   "execution_count": 9,
   "metadata": {},
   "outputs": [
    {
     "name": "stdout",
     "output_type": "stream",
     "text": [
      "Branch length\n",
      "Contraction\n",
      "Inter-node distance\n",
      "Inter-node distance (squared)\n",
      "Path mean radius\n",
      "No. of branch points\n",
      "No. of nodes\n",
      "Node radius\n",
      "Path length\n",
      "Path order\n",
      "Length of primary branches\n",
      "Length of terminal branches\n",
      "Node intensity values\n",
      "X coordinates\n",
      "Y coordinates\n",
      "Z coordinates\n"
     ]
    }
   ],
   "source": [
    "all_metrics = ij.py.from_java(s_stats.getAllMetrics())\n",
    "for metric in all_metrics:\n",
    "    print(metric)"
   ]
  },
  {
   "cell_type": "markdown",
   "metadata": {},
   "source": [
    "These metrics can be used as follows:"
   ]
  },
  {
   "cell_type": "code",
   "execution_count": 10,
   "metadata": {},
   "outputs": [],
   "source": [
    "metric = \"Inter-node distance\"\n",
    "summary_stats = s_stats.getSummaryStats(metric)"
   ]
  },
  {
   "cell_type": "markdown",
   "metadata": {},
   "source": [
    "The ```getSummaryStats()``` method returns an instance of the SummaryStatistics Class, whose methods are detailed [here](https://commons.apache.org/proper/commons-math/javadocs/api-3.3/org/apache/commons/math3/stat/descriptive/SummaryStatistics.html) (the same applies to ```getDescriptiveStats()```, whose API is [here](https://commons.apache.org/proper/commons-math/javadocs/api-3.3/org/apache/commons/math3/stat/descriptive/DescriptiveStatistics.html)). \n",
    "\n",
    "For example, to get the mean and standard deviation of the metric, do"
   ]
  },
  {
   "cell_type": "code",
   "execution_count": 11,
   "metadata": {},
   "outputs": [
    {
     "name": "stdout",
     "output_type": "stream",
     "text": [
      "The average inter-node distance is 21 micrometers\n",
      "The standard deviation is 12\n"
     ]
    }
   ],
   "source": [
    "print(\"The average inter-node distance is %d micrometers\" % summary_stats.getMean())\n",
    "print(\"The standard deviation is %d\" % summary_stats.getStandardDeviation())"
   ]
  },
  {
   "cell_type": "markdown",
   "metadata": {},
   "source": [
    "We can also plot histograms:"
   ]
  },
  {
   "cell_type": "code",
   "execution_count": 12,
   "metadata": {},
   "outputs": [
    {
     "data": {
      "image/png": "[encoded data removed]",
      "text/plain": [
       "<IPython.core.display.Image object>"
      ]
     },
     "metadata": {},
     "output_type": "display_data"
    }
   ],
   "source": [
    "s_stats.getHistogram(metric).show()\n",
    "# from IPython.display import Image, display\n",
    "# display(Image(r'C:\\Users\\arshadic\\Desktop\\notebook_hist.png'))"
   ]
  }
 ],
 "metadata": {
  "kernelspec": {
   "display_name": "Python 3",
   "language": "python",
   "name": "python3"
  },
  "language_info": {
   "codemirror_mode": {
    "name": "ipython",
    "version": 3
   },
   "file_extension": ".py",
   "mimetype": "text/x-python",
   "name": "python",
   "nbconvert_exporter": "python",
   "pygments_lexer": "ipython3",
   "version": "3.7.6"
  }
 },
 "nbformat": 4,
 "nbformat_minor": 2
}
