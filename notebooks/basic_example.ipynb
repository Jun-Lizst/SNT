{
 "cells": [
  {
   "cell_type": "markdown",
   "metadata": {},
   "source": [
    "The notebook provides a basic example of accessing the SNT API through pyimagej."
   ]
  },
  {
   "cell_type": "code",
   "execution_count": 1,
   "metadata": {},
   "outputs": [],
   "source": [
    "import sys\n",
    "#!conda install --yes --prefix {sys.prefix} -c conda-forge pyimagej openjdk=8"
   ]
  },
  {
   "cell_type": "code",
   "execution_count": 2,
   "metadata": {},
   "outputs": [],
   "source": [
    "import os\n",
    "import imagej"
   ]
  },
  {
   "cell_type": "code",
   "execution_count": 3,
   "metadata": {},
   "outputs": [],
   "source": [
    "# Initialize Fiji with GUI support. Use headless=True to run in headless mode.\n",
    "ij = imagej.init(r'C:\\Users\\cam\\Desktop\\Fiji.app', headless=False)\n",
    "# Now that Fiji is initialized we can import jnius. Note this must be done AFTER Fiji is initialized.\n",
    "from jnius import autoclass, cast"
   ]
  },
  {
   "cell_type": "markdown",
   "metadata": {},
   "source": [
    "As would be done in a Jython script using Fiji's Script Editor, we need to import the SNT classes we want to use.\n",
    "The ```jnius.autoclass``` function allows us to do exactly that, simply pass the full classpath as an argument to the function.\n",
    "\n",
    "The most up-to-date API is found at https://morphonets.github.io/SNT/\n",
    "\n",
    "For example, to download a neuron reconstruction from the MouseLight database and calculate summary statistics on it, you would import the MouseLightLoader and TreeStatistics classes, as shown in the following cell."
   ]
  },
  {
   "cell_type": "code",
   "execution_count": 4,
   "metadata": {},
   "outputs": [],
   "source": [
    "# https://morphonets.github.io/SNT/sc/fiji/snt/io/MouseLightLoader.html\n",
    "MouseLightLoader = autoclass('sc.fiji.snt.io.MouseLightLoader')\n",
    "# https://morphonets.github.io/SNT/sc/fiji/snt/analysis/TreeAnalyzer.html\n",
    "TreeStatistics = autoclass('sc.fiji.snt.analysis.TreeStatistics')"
   ]
  },
  {
   "cell_type": "markdown",
   "metadata": {},
   "source": [
    "Now you can access all the attributes and methods these classes offer. \n",
    "\n",
    "Let's get a summary of the inter-node distances for a specific mouse cortical motor neuron (ID = \"AA0100\" in the [MouseLight database](http://ml-neuronbrowser.janelia.org/))."
   ]
  },
  {
   "cell_type": "code",
   "execution_count": 5,
   "metadata": {},
   "outputs": [],
   "source": [
    "def run():\n",
    "    # First, initialize MouseLightLoader with the ID String of the desired reconstruction.\n",
    "    loader = MouseLightLoader(\"AA0100\")\n",
    "    if not loader.isDatabaseAvailable():\n",
    "        print(\"Could not connect to ML database\", \"Error\")\n",
    "        return\n",
    "    if not loader.idExists():\n",
    "        print(\"Somehow the specified id was not found\", \"Error\")\n",
    "        return\n",
    "\n",
    "    # Specific neurite compartments may be extracted from the loader instance.\n",
    "    a_tree = loader.getTree('axon', None) # compartment, color\n",
    "    # Construct a TreeStatistics instance using the axon subtree.\n",
    "    s_stats = TreeStatistics(a_tree)\n",
    "    # As is customary in Java, constant fields are named using capital leters, with words separated by underscores.\n",
    "    # The TreeStatistics class provides a number of constants which may be passed to any of its methods.\n",
    "    metric = TreeStatistics.INTER_NODE_DISTANCE\n",
    "    # the getSummaryStats() method returns a SummaryStatistics instance, whose methods are detailed here\n",
    "    # https://commons.apache.org/proper/commons-math/javadocs/api-3.3/org/apache/commons/math3/stat/descriptive/SummaryStatistics.html\n",
    "    summary_stats = s_stats.getSummaryStats(metric)\n",
    "    print(\"The average inter-node distance is %d\" % summary_stats.getMean())\n",
    "    # To plot a histogram of the metric, do\n",
    "    s_stats.getHistogram(metric).show()\n"
   ]
  },
  {
   "cell_type": "code",
   "execution_count": 6,
   "metadata": {},
   "outputs": [
    {
     "name": "stdout",
     "output_type": "stream",
     "text": [
      "The average inter-node distance is 21\n"
     ]
    }
   ],
   "source": [
    "run()"
   ]
  }
 ],
 "metadata": {
  "kernelspec": {
   "display_name": "Python 3",
   "language": "python",
   "name": "python3"
  },
  "language_info": {
   "codemirror_mode": {
    "name": "ipython",
    "version": 3
   },
   "file_extension": ".py",
   "mimetype": "text/x-python",
   "name": "python",
   "nbconvert_exporter": "python",
   "pygments_lexer": "ipython3",
   "version": "3.7.3"
  }
 },
 "nbformat": 4,
 "nbformat_minor": 2
}
