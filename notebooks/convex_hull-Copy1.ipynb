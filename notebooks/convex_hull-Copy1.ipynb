{
 "cells": [
  {
   "cell_type": "markdown",
   "metadata": {},
   "source": [
    "This notebook demonstrates integration of functionality from SNT with Python through pyimagej.  \n",
    "The context is the computation and rendering of the convex hull enclosing all axonal/dendritic terminal nodes.    "
   ]
  },
  {
   "cell_type": "code",
   "execution_count": 1,
   "metadata": {},
   "outputs": [],
   "source": [
    "import sys\n",
    "#!conda install --yes --prefix {sys.prefix} -c conda-forge pyimagej openjdk=8 scipy"
   ]
  },
  {
   "cell_type": "code",
   "execution_count": 2,
   "metadata": {},
   "outputs": [],
   "source": [
    "import imagej\n",
    "import numpy as np\n",
    "from scipy.spatial import ConvexHull\n",
    "from collections import defaultdict"
   ]
  },
  {
   "cell_type": "code",
   "execution_count": 3,
   "metadata": {},
   "outputs": [],
   "source": [
    "# Initialize Fiji with GUI support.\n",
    "ij = imagej.init(r'C:\\Users\\cam\\Desktop\\Fiji.app', headless=False)\n",
    "\n",
    "from jnius import autoclass, cast"
   ]
  },
  {
   "cell_type": "code",
   "execution_count": 4,
   "metadata": {},
   "outputs": [],
   "source": [
    "# Import relevant SNT (Java) classes.\n",
    "HashSet = autoclass('java.util.HashSet')\n",
    "PointInImage = autoclass('sc.fiji.snt.util.PointInImage')\n",
    "MouseLightLoader = autoclass('sc.fiji.snt.io.MouseLightLoader')\n",
    "Tree = autoclass('sc.fiji.snt.Tree')\n",
    "TreeAnalyzer = autoclass('sc.fiji.snt.analysis.TreeAnalyzer')\n",
    "Viewer = autoclass('sc.fiji.snt.viewer.Viewer3D')"
   ]
  },
  {
   "cell_type": "code",
   "execution_count": 5,
   "metadata": {},
   "outputs": [],
   "source": [
    "def convex_hull(tree):\n",
    "    \"\"\"Computes the convex hull of the input Tree\n",
    "    and return a Java ArrayList containing the vertices \n",
    "    representing the hull.\n",
    "\n",
    "    Returns:\n",
    "        verts_java (ArrayList): The list containing the hull vertices.\n",
    "    Args:\n",
    "        tree (Tree): The SNT Tree object.\"\"\"\n",
    "    \n",
    "    tips = TreeAnalyzer(tree).getTips()\n",
    "    compartment_dict = defaultdict(list)\n",
    "    for t in list(tips.toArray()):\n",
    "        annotation = t.getAnnotation()\n",
    "        if annotation is not None:\n",
    "            compartment_dict[annotation.name()].append(t)\n",
    "    \n",
    "    max_compartment = max(compartment_dict, key= lambda x: len(compartment_dict[x]))\n",
    "    print(max_compartment)\n",
    "    \n",
    "    compartment_tips = compartment_dict[max_compartment]\n",
    "    return ij.py.to_java(compartment_tips)"
   ]
  },
  {
   "cell_type": "code",
   "execution_count": 6,
   "metadata": {},
   "outputs": [],
   "source": [
    "def run():\n",
    "    \n",
    "    # Fetch swc from MouseLight database by ID.\n",
    "    loader = MouseLightLoader('AA1044')\n",
    "    if not loader.isDatabaseAvailable():\n",
    "        print(\"Could not connect to ML database\", \"Error\")\n",
    "        return\n",
    "    if not loader.idExists():\n",
    "        print(\"Somewhow the specified id was not found\", \"Error\")\n",
    "        return\n",
    "\n",
    "    tree_axon = loader.getTree(\"axon\")\n",
    "    \n",
    "    #verts_axon = convex_hull(tree_axon)\n",
    "    #verts_axon = TreeAnalyzer(tree_axon).getTips()\n",
    "\n",
    "    # Visualize the result using SNT Viewer3D.\n",
    "    viewer = Viewer()\n",
    "    viewer.add(tree_axon)\n",
    "    axon_hull = viewer.annotateSurface(tree_axon.getNodes(), \"Axon Hull\")\n",
    "    axon_hull.setColor(\"red\")\n",
    "    viewer.show()"
   ]
  },
  {
   "cell_type": "code",
   "execution_count": 7,
   "metadata": {},
   "outputs": [
    {
     "ename": "JavaException",
     "evalue": "JVM exception occurred: com/github/quickhull3d/Point3d",
     "output_type": "error",
     "traceback": [
      "\u001b[1;31m---------------------------------------------------------------------------\u001b[0m",
      "\u001b[1;31mJavaException\u001b[0m                             Traceback (most recent call last)",
      "\u001b[1;32m<ipython-input-7-ec9775ede022>\u001b[0m in \u001b[0;36m<module>\u001b[1;34m\u001b[0m\n\u001b[1;32m----> 1\u001b[1;33m \u001b[0mrun\u001b[0m\u001b[1;33m(\u001b[0m\u001b[1;33m)\u001b[0m\u001b[1;33m\u001b[0m\u001b[1;33m\u001b[0m\u001b[0m\n\u001b[0m",
      "\u001b[1;32m<ipython-input-6-003c7e54959a>\u001b[0m in \u001b[0;36mrun\u001b[1;34m()\u001b[0m\n\u001b[0;32m     18\u001b[0m     \u001b[0mviewer\u001b[0m \u001b[1;33m=\u001b[0m \u001b[0mViewer\u001b[0m\u001b[1;33m(\u001b[0m\u001b[1;33m)\u001b[0m\u001b[1;33m\u001b[0m\u001b[1;33m\u001b[0m\u001b[0m\n\u001b[0;32m     19\u001b[0m     \u001b[0mviewer\u001b[0m\u001b[1;33m.\u001b[0m\u001b[0madd\u001b[0m\u001b[1;33m(\u001b[0m\u001b[0mtree_axon\u001b[0m\u001b[1;33m)\u001b[0m\u001b[1;33m\u001b[0m\u001b[1;33m\u001b[0m\u001b[0m\n\u001b[1;32m---> 20\u001b[1;33m     \u001b[0maxon_hull\u001b[0m \u001b[1;33m=\u001b[0m \u001b[0mviewer\u001b[0m\u001b[1;33m.\u001b[0m\u001b[0mannotateSurface\u001b[0m\u001b[1;33m(\u001b[0m\u001b[0mtree_axon\u001b[0m\u001b[1;33m.\u001b[0m\u001b[0mgetNodes\u001b[0m\u001b[1;33m(\u001b[0m\u001b[1;33m)\u001b[0m\u001b[1;33m,\u001b[0m \u001b[1;34m\"Axon Hull\"\u001b[0m\u001b[1;33m)\u001b[0m\u001b[1;33m\u001b[0m\u001b[1;33m\u001b[0m\u001b[0m\n\u001b[0m\u001b[0;32m     21\u001b[0m     \u001b[0maxon_hull\u001b[0m\u001b[1;33m.\u001b[0m\u001b[0msetColor\u001b[0m\u001b[1;33m(\u001b[0m\u001b[1;34m\"red\"\u001b[0m\u001b[1;33m)\u001b[0m\u001b[1;33m\u001b[0m\u001b[1;33m\u001b[0m\u001b[0m\n\u001b[0;32m     22\u001b[0m     \u001b[0mviewer\u001b[0m\u001b[1;33m.\u001b[0m\u001b[0mshow\u001b[0m\u001b[1;33m(\u001b[0m\u001b[1;33m)\u001b[0m\u001b[1;33m\u001b[0m\u001b[1;33m\u001b[0m\u001b[0m\n",
      "\u001b[1;32mjnius\\jnius_export_class.pxi\u001b[0m in \u001b[0;36mjnius.JavaMethod.__call__\u001b[1;34m()\u001b[0m\n",
      "\u001b[1;32mjnius\\jnius_export_class.pxi\u001b[0m in \u001b[0;36mjnius.JavaMethod.call_method\u001b[1;34m()\u001b[0m\n",
      "\u001b[1;32mjnius\\jnius_utils.pxi\u001b[0m in \u001b[0;36mjnius.check_exception\u001b[1;34m()\u001b[0m\n",
      "\u001b[1;31mJavaException\u001b[0m: JVM exception occurred: com/github/quickhull3d/Point3d"
     ]
    }
   ],
   "source": [
    "run()"
   ]
  },
  {
   "cell_type": "code",
   "execution_count": null,
   "metadata": {},
   "outputs": [],
   "source": []
  }
 ],
 "metadata": {
  "kernelspec": {
   "display_name": "Python 3",
   "language": "python",
   "name": "python3"
  },
  "language_info": {
   "codemirror_mode": {
    "name": "ipython",
    "version": 3
   },
   "file_extension": ".py",
   "mimetype": "text/x-python",
   "name": "python",
   "nbconvert_exporter": "python",
   "pygments_lexer": "ipython3",
   "version": "3.7.3"
  }
 },
 "nbformat": 4,
 "nbformat_minor": 2
}
