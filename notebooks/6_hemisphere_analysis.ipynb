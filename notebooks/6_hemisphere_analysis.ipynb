{
 "cells": [
  {
   "cell_type": "markdown",
   "metadata": {},
   "source": [
    "# Hemisphere Analysis\n",
    "\n",
    "This notebook exemplifies how to use [SNT](https://imagej.net/SNT) to quantify ipsilater/contralateral projection patterns of [MouseLight](http://ml-neuronbrowser.janelia.org/) data.\n",
    "\n",
    "## Before Starting\n",
    "\n",
    "1. Ensure you have followed the [detailed instructions](./README.md) on how to set up your environment\n",
    "2. Ensure you have linked your local Fiji installation to this notebook as detailed in [Overview](1_overview.ipynb)\n",
    "\n",
    "Scripting documentation is available at https://imagej.net/SNT/Scripting, latest SNT API at https://morphonets.github.io/SNT."
   ]
  },
  {
   "cell_type": "markdown",
   "metadata": {},
   "source": [
    "## Setup\n",
    "As usual, we 1) initialize Fiji with GUI support; 2) import all relevant python modules; and 3) import all relevant SNT classes:"
   ]
  },
  {
   "cell_type": "code",
   "execution_count": 1,
   "metadata": {},
   "outputs": [],
   "source": [
    "import ijfinder\n",
    "import imagej\n",
    "import os\n",
    "\n",
    "fiji_path = ijfinder.getpath().decode('utf-8')\n",
    "if os.path.isdir(fiji_path):\n",
    "    ij = imagej.init(fiji_path, headless=False)\n",
    "else:\n",
    "    print(\"Cannot proceed: Fiji not found!\")\n",
    "\n",
    "from scyjava import jimport\n",
    "\n",
    "# sc.fiji.snt\n",
    "Tree = jimport('sc.fiji.snt.Tree')\n",
    "# sc.fiji.snt.io\n",
    "MouseLightLoader = jimport('sc.fiji.snt.io.MouseLightLoader')\n",
    "# sc.fiji.snt.analisis\n",
    "TreeStatistics = jimport('sc.fiji.snt.analysis.TreeStatistics')\n",
    "# sc.fiji.snt.annotation\n",
    "AllenUtils = jimport('sc.fiji.snt.annotation.AllenUtils')"
   ]
  },
  {
   "cell_type": "markdown",
   "metadata": {},
   "source": [
    "## Load data\n",
    "\n",
    "Let's retrieve a cell from the primary motor cortex (MOp) and extract its axon:"
   ]
  },
  {
   "cell_type": "code",
   "execution_count": 2,
   "metadata": {},
   "outputs": [],
   "source": [
    "loader = MouseLightLoader(\"AA0876\")\n",
    "if not loader.isDatabaseAvailable():\n",
    "    print(\"Could not connect to ML database\", \"Error\")\n",
    "if not loader.idExists():\n",
    "    print(\"Somehow the specified id was not found\", \"Error\")\n",
    "axon = loader.getTree('axon')"
   ]
  },
  {
   "cell_type": "markdown",
   "metadata": {},
   "source": [
    "## Does the axon have contralateral projections?\n",
    "\n",
    "Let's answer this programatically. In the MouseLight database, the straight mid-sagittal plane is defined by an X coordinate (note that this diverges from the original CCF orientation). Thus, we can get immediate insights into ipsilateral/contralateral hemisphere distributions by looking at the distribuition of X coordinates of reconstruction nodes (see [Overview](1_overview.ipynb) for TreeStatistics/NodeStatistics details):"
   ]
  },
  {
   "cell_type": "code",
   "execution_count": 3,
   "metadata": {},
   "outputs": [],
   "source": [
    "tree_stats = TreeStatistics(axon)\n",
    "hist = tree_stats.getNodeStatistics().getHistogram(\"x coordinates\")\n",
    "hist.annotateXline(AllenUtils.brainCenter().getX(), \"Midline\")\n",
    "hist.annotateXline(axon.getRoot().getX(), \"Soma\")\n",
    "hist.setFontSize(20)\n",
    "hist.show()"
   ]
  },
  {
   "cell_type": "markdown",
   "metadata": {},
   "source": [
    "So now we know that this neuron (with soma in the right hemisphere) has both ipsilateral and contraleral projections. This is corroborated by looking at e.g., end-points:"
   ]
  },
  {
   "cell_type": "code",
   "execution_count": 4,
   "metadata": {},
   "outputs": [],
   "source": [
    "hist = tree_stats.getNodeStatistics(\"tips\").getHistogram(\"x coordinates\")\n",
    "hist.annotateXline(AllenUtils.brainCenter().getX(), \"Midline\")\n",
    "hist.annotateXline(axon.getRoot().getX(), \"Soma\")\n",
    "hist.show()"
   ]
  },
  {
   "cell_type": "markdown",
   "metadata": {},
   "source": [
    "NB: In SNT, neuropil annotations are by default generic to accomodate different species. Since we are using mouse data registered to the Allen CCF, use the `AllenUtils` class to access CCF details."
   ]
  },
  {
   "cell_type": "markdown",
   "metadata": {},
   "source": [
    "## Does the axon target the same brain area evenly across hemispheres?\n",
    "\n",
    "To answer this it is convenient to first tag all the nodes in the reconstruction with 'left', 'right' hemisphere tags."
   ]
  },
  {
   "cell_type": "code",
   "execution_count": 5,
   "metadata": {},
   "outputs": [],
   "source": [
    "AllenUtils.assignHemisphereTags(axon) # tag each node with 'left'/'right' labels"
   ]
  },
  {
   "cell_type": "markdown",
   "metadata": {},
   "source": [
    "Now when we query TreeStatistics to obtain annotated lengths (i.e., the amount of axonal cable associated with the brain areas inervated by the axon), we can split results by hemisphere.\n",
    "To simplify things, we are going to parse only brain areas of \"mid-level ontology\" (i.e., those at mid-depth in the CCF ontology, that, as of this writing, has a maximum depth of 10):"
   ]
  },
  {
   "cell_type": "code",
   "execution_count": 6,
   "metadata": {},
   "outputs": [],
   "source": [
    "#define a function that higlights the soma compartment in a histogram\n",
    "def annotate_soma(histogram, ontology_depth):\n",
    "    global loader, depth\n",
    "    soma_compartment = loader.getSomaCompartment()\n",
    "    if soma_compartment.getOntologyDepth() > ontology_depth:\n",
    "        ancestor_depth = ontology_depth - soma_compartment.getOntologyDepth()\n",
    "        soma_compartment = soma_compartment.getAncestor(ancestor_depth)\n",
    "    histogram.annotateCategory(soma_compartment.acronym(), \"soma\")\n",
    "\n",
    "depth = 6\n",
    "hist = tree_stats.getAnnotatedLengthHistogram(depth, \"left\")\n",
    "annotate_soma(hist, depth)\n",
    "hist.show()\n",
    "hist = tree_stats.getAnnotatedLengthHistogram(depth, \"right\")\n",
    "annotate_soma(hist, depth)\n",
    "hist.show()"
   ]
  },
  {
   "cell_type": "markdown",
   "metadata": {},
   "source": [
    "And voilá, now we can look for biases in the distribuitons between hemispheres. But looking at the data in this format can be rather cumbersome.\n",
    "It would be better to visualize both distributions side-by-side:"
   ]
  },
  {
   "cell_type": "code",
   "execution_count": 7,
   "metadata": {},
   "outputs": [],
   "source": [
    "hist = tree_stats.getAnnotatedLengthHistogram(depth, \"ratio\")\n",
    "annotate_soma(hist, depth)\n",
    "hist.show()"
   ]
  },
  {
   "cell_type": "markdown",
   "metadata": {},
   "source": [
    "Much better! Now it is easier to notice that, e.g., there are no contralateral projections to the Ectorhinal area (ECT)."
   ]
  },
  {
   "cell_type": "markdown",
   "metadata": {},
   "source": [
    "# Followup Questions:\n",
    "\n",
    "1. Which kind of anatomical structures are associated with axonal processes in the ipsilateral ECT? unbranched processes? end-points? branch-points? varicosities?\n",
    "\n",
    "2. How can we visualize the axon around that hemi-area?\n",
    "\n",
    "We can answer all of those questions with SNT, but that would be the material for another tutorial!"
   ]
  },
  {
   "cell_type": "code",
   "execution_count": null,
   "metadata": {},
   "outputs": [],
   "source": []
  }
 ],
 "metadata": {
  "kernelspec": {
   "display_name": "Python 3",
   "language": "python",
   "name": "python3"
  },
  "language_info": {
   "codemirror_mode": {
    "name": "ipython",
    "version": 3
   },
   "file_extension": ".py",
   "mimetype": "text/x-python",
   "name": "python",
   "nbconvert_exporter": "python",
   "pygments_lexer": "ipython3",
   "version": "3.8.6"
  }
 },
 "nbformat": 4,
 "nbformat_minor": 4
}
