{
 "cells": [
  {
   "cell_type": "markdown",
   "metadata": {},
   "source": [
    "Notebook to test performance of different implementations of SNT-Python data type conversions.  \n",
    "Context is computing the convex hull of nodes in a neuron reconstruction (in this case idealized as a sphere for stress testing purposes)"
   ]
  },
  {
   "cell_type": "code",
   "execution_count": 1,
   "metadata": {},
   "outputs": [],
   "source": [
    "import sys\n",
    "!conda install --yes --prefix {sys.prefix} -c conda-forge pyimagej openjdk=8 scipy"
   ]
  },
  {
   "cell_type": "code",
   "execution_count": 2,
   "metadata": {},
   "outputs": [],
   "source": [
    "import timeit\n",
    "import imagej\n",
    "import numpy as np\n",
    "from scipy.spatial import ConvexHull"
   ]
  },
  {
   "cell_type": "code",
   "execution_count": 3,
   "metadata": {},
   "outputs": [],
   "source": [
    "# Initialize Fiji with GUI support.\n",
    "ij = imagej.init('sc.fiji:fiji', headless=False)\n",
    "\n",
    "from jnius import autoclass, cast"
   ]
  },
  {
   "cell_type": "code",
   "execution_count": 4,
   "metadata": {},
   "outputs": [],
   "source": [
    "# Import relevant Java classes\n",
    "HashSet = autoclass('java.util.HashSet')\n",
    "PointInImage = autoclass('sc.fiji.snt.util.PointInImage')\n",
    "MouseLightLoader = autoclass('sc.fiji.snt.io.MouseLightLoader')\n",
    "Tree = autoclass('sc.fiji.snt.Tree')\n",
    "TreeAnalyzer = autoclass('sc.fiji.snt.analysis.TreeAnalyzer')\n",
    "Color = autoclass('org.scijava.util.Colors')\n",
    "Viewer = autoclass('sc.fiji.snt.viewer.Viewer3D')"
   ]
  },
  {
   "cell_type": "code",
   "execution_count": 5,
   "metadata": {},
   "outputs": [],
   "source": [
    "import math, random\n",
    "\n",
    "def fibonacci_sphere(samples=100, randomize=False):\n",
    "    \"\"\"Test code to generate convex hull where number of samples == number of hull vertices.\n",
    "    Assumes that a convex hull of a uniformly distributed spherical point cloud \n",
    "    will have outer vertices comprised of all samples that compose the cloud.\"\"\"\n",
    "    \n",
    "    rnd = 1.\n",
    "    if randomize:\n",
    "        rnd = random.random() * samples\n",
    "\n",
    "    points = []\n",
    "    offset = 2./samples\n",
    "    increment = math.pi * (3. - math.sqrt(5.));\n",
    "\n",
    "    for i in range(samples):\n",
    "        y = ((i * offset) - 1) + (offset / 2);\n",
    "        r = math.sqrt(1 - pow(y,2))\n",
    "\n",
    "        phi = ((i + rnd) % samples) * increment\n",
    "\n",
    "        x = math.cos(phi) * r\n",
    "        z = math.sin(phi) * r\n",
    "\n",
    "        points.append([x,y,z])\n",
    "\n",
    "    return points"
   ]
  },
  {
   "cell_type": "code",
   "execution_count": 6,
   "metadata": {},
   "outputs": [],
   "source": [
    "def run_original(tree):\n",
    "    \"\"\"This version creates a new PointInImage object for each computed vertex \n",
    "    and adds it to an empty HashSet.\"\"\"\n",
    "    \n",
    "    points = ij.py.to_java(tree)\n",
    "    points_iterator = points.iterator()\n",
    "\n",
    "    # Convert to Python list.\n",
    "    points_list = []\n",
    "    while points_iterator.hasNext():\n",
    "        n = points_iterator.next()\n",
    "        points_list.append([n[0], n[1], n[2]])\n",
    "\n",
    "    # Find the convex hull of the input points.\n",
    "    X = np.asarray(points_list)\n",
    "    \n",
    "    hull = ConvexHull(X)\n",
    "    verts = X[hull.vertices]\n",
    "\n",
    "    # Construct new Java Hashset containing the hull vertices.\n",
    "    verts_java = HashSet()\n",
    "    for v in verts:\n",
    "        verts_java.add(PointInImage(v[0], v[1], v[2]))  "
   ]
  },
  {
   "cell_type": "code",
   "execution_count": 7,
   "metadata": {},
   "outputs": [],
   "source": [
    "def run_indexing(tree):\n",
    "    \"\"\"This version relies on keeping an ordered array of the input points,\n",
    "    and uses the computed hull vertices to find the associated SNTPoint objects\n",
    "    by indexing into the original Java array. Bypasses re-constructing a \n",
    "    sc.fiji.snt.util.PointInImage object for each hull vertex.\"\"\"\n",
    "    \n",
    "    points = ij.py.to_java(tree)\n",
    "    points_java_array = points.toArray()\n",
    "    \n",
    "    # Convert to Python list.\n",
    "    points_list = [[t[0], t[1], t[2]] for t in points_java_array]\n",
    "\n",
    "    # Find the convex hull of the input points.\n",
    "    hull = ConvexHull(points_list)\n",
    "    # Find the original PointInImage objects and convert to Java array.\n",
    "    verts_java = [points_java_array[i] for i in hull.vertices]\n",
    "    verts_java = ij.py.to_java(verts_java)\n",
    "    "
   ]
  },
  {
   "cell_type": "code",
   "execution_count": 8,
   "metadata": {},
   "outputs": [],
   "source": [
    "# magic %timeit does not work with functions using arguments, use timeit.timeit and wrapper function instead\n",
    "def timeit_wrapper(func, *args, **kwargs):\n",
    "    \n",
    "    def wrapped():\n",
    "        \n",
    "        return func(*args, **kwargs)\n",
    "    \n",
    "    return wrapped\n"
   ]
  },
  {
   "cell_type": "code",
   "execution_count": 9,
   "metadata": {},
   "outputs": [],
   "source": [
    "def measure_scaling(function, ex):\n",
    "    \"\"\"Function to measure how performance scales with number of hull vertices\n",
    "    to compare different ways of converting between Python and Java data types.\"\"\"\n",
    "    \n",
    "    X = []\n",
    "    Y = []\n",
    "    \n",
    "    for i in range(1,ex+1):\n",
    "        samples = 10**i\n",
    "        tree = fibonacci_sphere(samples, randomize=False)\n",
    "        wrapped = timeit_wrapper(function, tree)\n",
    "        x = samples\n",
    "        X.append(x)\n",
    "        y = timeit.timeit(wrapped, number=1)\n",
    "        Y.append(y)\n",
    "        \n",
    "    return X, Y\n"
   ]
  },
  {
   "cell_type": "code",
   "execution_count": 10,
   "metadata": {},
   "outputs": [],
   "source": [
    "# Test with 10^5 hull vertices.\n",
    "X_original, Y_original = measure_scaling(run_original, 5)\n",
    "X_indexing, Y_indexing = measure_scaling(run_indexing, 5)\n"
   ]
  },
  {
   "cell_type": "code",
   "execution_count": 11,
   "metadata": {},
   "outputs": [
    {
     "data": {
      "image/png": "[encoded data removed]",
      "text/plain": [
       "<Figure size 432x288 with 1 Axes>"
      ]
     },
     "metadata": {
      "needs_background": "light"
     },
     "output_type": "display_data"
    }
   ],
   "source": [
    "%matplotlib inline\n",
    "import matplotlib.pyplot as plt\n",
    "\n",
    "plt.plot(X_original, Y_original, 'r')\n",
    "plt.plot(X_indexing, Y_indexing, 'b')\n",
    "plt.xlabel('num hull vertices')\n",
    "plt.ylabel('execution time (s)')\n",
    "plt.show()\n"
   ]
  }
 ],
 "metadata": {
  "kernelspec": {
   "display_name": "pyimagej",
   "language": "python",
   "name": "pyimagej"
  },
  "language_info": {
   "codemirror_mode": {
    "name": "ipython",
    "version": 3
   },
   "file_extension": ".py",
   "mimetype": "text/x-python",
   "name": "python",
   "nbconvert_exporter": "python",
   "pygments_lexer": "ipython3",
   "version": "3.7.3"
  }
 },
 "nbformat": 4,
 "nbformat_minor": 2
}
